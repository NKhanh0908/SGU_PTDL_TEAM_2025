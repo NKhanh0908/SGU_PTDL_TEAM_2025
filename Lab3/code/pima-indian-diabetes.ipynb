{
 "cells": [
  {
   "cell_type": "markdown",
   "id": "98887fb0",
   "metadata": {},
   "source": [
    "# Bệnh đái tháo đường ở nữ giới Pima Indian"
   ]
  },
  {
   "cell_type": "markdown",
   "id": "28de072b",
   "metadata": {},
   "source": [
    "## 1. Giới thiệu\n",
    "\n",
    "### Mô tả vấn đề\n",
    "Bệnh tiểu đường là một trong những bệnh mạn tính phổ biến và nguy hiểm, đặc biệt trong nhóm người có yếu tố nguy cơ như béo phì, tuổi cao, hoặc có tiền sử gia đình.  \n",
    "Bộ dữ liệu **Pima Indians Diabetes** được thu thập từ phụ nữ Pima (Arizona, Mỹ) ≥ 21 tuổi, nhằm mục tiêu phân tích các yếu tố sức khỏe liên quan đến khả năng mắc bệnh tiểu đường.  \n",
    "\n",
    "### Mục tiêu phân tích\n",
    "- Khám phá đặc điểm dữ liệu và kiểm tra chất lượng dữ liệu (missing values, ngoại lai).\n",
    "- Phân tích mối quan hệ giữa các chỉ số sức khỏe (Glucose, BMI, Age, …) và biến mục tiêu `Outcome`.\n",
    "- Xác định những biến quan trọng có thể hữu ích cho việc xây dựng mô hình dự đoán.  \n",
    "\n",
    "### Thông tin cơ bản về dữ liệu\n",
    "- **Số mẫu**: 768  \n",
    "- **Số thuộc tính**: 8 đặc trưng + 1 biến mục tiêu  \n",
    "- **Biến mục tiêu**: `Outcome` (0 = không tiểu đường, 1 = có tiểu đường)  \n",
    "\n",
    "### Các bước tiếp theo \n",
    "1. Import thư viện & nạp dữ liệu\n",
    "2. Khám phá cấu trúc dữ liệu\n",
    "3. Phân tích đơn biến\n",
    "4. Phân tích đa biến\n",
    "5. Kiểm tra tương quan\n",
    "6. Tóm tắt insights"
   ]
  },
  {
   "cell_type": "markdown",
   "id": "caeb1c83",
   "metadata": {},
   "source": [
    "## 2. Import thư viện và nạp dữ liệu"
   ]
  },
  {
   "cell_type": "markdown",
   "id": "f63cfe5d",
   "metadata": {},
   "source": [
    "### 2.1 Khai báo thư viện (Load Libraries)"
   ]
  },
  {
   "cell_type": "markdown",
   "id": "78a73f36",
   "metadata": {},
   "source": [
    "- **pandas**: dùng để xử lý dữ liệu dạng bảng (DataFrame), hỗ trợ đọc, ghi, và thao tác dữ liệu.\n",
    "- **numpy**: thư viện tính toán số học, hỗ trợ mảng đa chiều và các phép toán nhanh chóng.\n",
    "- **scikit-learn (SimpleImputer)**: cung cấp công cụ để xử lý giá trị thiếu (missing values), ở đây dùng `SimpleImputer`.\n",
    "- **seaborn**: thư viện trực quan hóa dữ liệu, giúp vẽ các biểu đồ đẹp và dễ nhìn hơn.\n",
    "- **matplotlib.pyplot**: thư viện cơ bản để vẽ biểu đồ trong Python."
   ]
  },
  {
   "cell_type": "code",
   "execution_count": null,
   "id": "5eb109e3",
   "metadata": {},
   "outputs": [],
   "source": [
    "import pandas as pd\n",
    "import numpy as np\n",
    "import seaborn as sns\n",
    "import matplotlib.pyplot as plt"
   ]
  },
  {
   "cell_type": "markdown",
   "id": "b58ee3d1",
   "metadata": {},
   "source": [
    "### 2.2 Nạp dữ liệu (Load Dataset)"
   ]
  },
  {
   "cell_type": "markdown",
   "id": "3da83685",
   "metadata": {},
   "source": [
    "- Thực hiện việc **nạp dữ liệu gốc** từ file `pima-indians-diabetes.csv` vào Python bằng thư viện `pandas`.  \n",
    "- Do file CSV không chứa tiêu đề cột (header), ta cần **gán tên cột** dựa trên mô tả trong tài liệu nghiên cứu gốc.  \n",
    "- Kết quả: dữ liệu được lưu vào một **DataFrame** có cấu trúc rõ ràng."
   ]
  },
  {
   "cell_type": "code",
   "execution_count": null,
   "id": "a88fc220",
   "metadata": {},
   "outputs": [],
   "source": [
    "# Đọc dữ liệu từ file CSV\n",
    "data_path = 'pima-indians-diabetes.csv'  # Đường dẫn tới file dữ liệu\n",
    "\n",
    "# Gán tên cột dựa trên mô tả trong tài liệu\n",
    "column_names = ['Pregnancies', 'Glucose', 'BloodPressure', 'SkinThickness', 'Insulin', 'BMI', 'DiabetesPedigreeFunction', 'Age', 'Outcome'] # Tên các cột\n",
    "\n",
    "# Đọc dữ liệu từ file CSV\n",
    "data = pd.read_csv(data_path, header=None, names=column_names)"
   ]
  },
  {
   "cell_type": "markdown",
   "id": "ba6733bc",
   "metadata": {},
   "source": [
    "### 2.3. Khám phá cấu trúc dữ liệu"
   ]
  },
  {
   "cell_type": "markdown",
   "id": "c3d2f38f",
   "metadata": {},
   "source": [
    "- Sử dụng các hàm cơ bản của pd đễ hỗ trợ cho chúng ta có một cái nhìn tổng quát về số liệu của file "
   ]
  },
  {
   "cell_type": "code",
   "execution_count": null,
   "id": "9dce9d2f",
   "metadata": {},
   "outputs": [
    {
     "data": {
      "text/plain": [
       "(768, 9)"
      ]
     },
     "metadata": {},
     "output_type": "display_data"
    }
   ],
   "source": [
    "data.shape"
   ]
  },
  {
   "cell_type": "code",
   "execution_count": null,
   "id": "a4e77c77",
   "metadata": {},
   "outputs": [
    {
     "data": {
      "text/plain": [
       "Index(['Pregnancies', 'Glucose', 'BloodPressure', 'SkinThickness', 'Insulin',\n",
       "       'BMI', 'DiabetesPedigreeFunction', 'Age', 'Outcome'],\n",
       "      dtype='object')"
      ]
     },
     "metadata": {},
     "output_type": "display_data"
    }
   ],
   "source": [
    "data.columns"
   ]
  },
  {
   "cell_type": "code",
   "execution_count": null,
   "id": "ca852325",
   "metadata": {},
   "outputs": [
    {
     "name": "stdout",
     "output_type": "stream",
     "text": [
      "5 dòng đầu của dữ liệu:\n",
      "   Pregnancies  Glucose  BloodPressure  SkinThickness  Insulin   BMI  \\\n",
      "0            6      148             72             35        0  33.6   \n",
      "1            1       85             66             29        0  26.6   \n",
      "2            8      183             64              0        0  23.3   \n",
      "3            1       89             66             23       94  28.1   \n",
      "4            0      137             40             35      168  43.1   \n",
      "\n",
      "   DiabetesPedigreeFunction  Age  Outcome  \n",
      "0                     0.627   50        1  \n",
      "1                     0.351   31        0  \n",
      "2                     0.672   32        1  \n",
      "3                     0.167   21        0  \n",
      "4                     2.288   33        1  \n"
     ]
    }
   ],
   "source": [
    "# Hiển thị 5 dòng đầu để kiểm tra\n",
    "print(\"5 dòng đầu của dữ liệu:\")\n",
    "print(data.head())"
   ]
  },
  {
   "cell_type": "code",
   "execution_count": null,
   "id": "97881b6f",
   "metadata": {},
   "outputs": [
    {
     "name": "stdout",
     "output_type": "stream",
     "text": [
      "5 dòng cuối của dữ liệu:\n",
      "     Pregnancies  Glucose  BloodPressure  SkinThickness  Insulin   BMI  \\\n",
      "763           10      101             76             48      180  32.9   \n",
      "764            2      122             70             27        0  36.8   \n",
      "765            5      121             72             23      112  26.2   \n",
      "766            1      126             60              0        0  30.1   \n",
      "767            1       93             70             31        0  30.4   \n",
      "\n",
      "     DiabetesPedigreeFunction  Age  Outcome  \n",
      "763                     0.171   63        0  \n",
      "764                     0.340   27        0  \n",
      "765                     0.245   30        0  \n",
      "766                     0.349   47        1  \n",
      "767                     0.315   23        0  \n"
     ]
    }
   ],
   "source": [
    "print(\"5 dòng cuối của dữ liệu:\")\n",
    "print(data.tail())"
   ]
  },
  {
   "cell_type": "code",
   "execution_count": null,
   "id": "cfdff63e",
   "metadata": {},
   "outputs": [
    {
     "name": "stdout",
     "output_type": "stream",
     "text": [
      "<class 'pandas.core.frame.DataFrame'>\n",
      "RangeIndex: 768 entries, 0 to 767\n",
      "Data columns (total 9 columns):\n",
      " #   Column                    Non-Null Count  Dtype  \n",
      "---  ------                    --------------  -----  \n",
      " 0   Pregnancies               768 non-null    int64  \n",
      " 1   Glucose                   768 non-null    int64  \n",
      " 2   BloodPressure             768 non-null    int64  \n",
      " 3   SkinThickness             768 non-null    int64  \n",
      " 4   Insulin                   768 non-null    int64  \n",
      " 5   BMI                       768 non-null    float64\n",
      " 6   DiabetesPedigreeFunction  768 non-null    float64\n",
      " 7   Age                       768 non-null    int64  \n",
      " 8   Outcome                   768 non-null    int64  \n",
      "dtypes: float64(2), int64(7)\n",
      "memory usage: 54.1 KB\n",
      "None\n"
     ]
    }
   ],
   "source": [
    "# Hiển thị thông tin cơ bản về dữ liệu\n",
    "print(data.info())"
   ]
  },
  {
   "cell_type": "markdown",
   "id": "b79117ac",
   "metadata": {},
   "source": [
    "**Nhận xét cấu trúc dữ liệu:**\n",
    "   - Tổng cộng **767 dòng × 9 cột**.  \n",
    "   - Tất cả các biến đều dạng số (`int` hoặc `float`). "
   ]
  },
  {
   "cell_type": "code",
   "execution_count": null,
   "id": "ea719fa3",
   "metadata": {},
   "outputs": [
    {
     "name": "stdout",
     "output_type": "stream",
     "text": [
      "       Pregnancies     Glucose  BloodPressure  SkinThickness     Insulin  \\\n",
      "count   768.000000  768.000000     768.000000     768.000000  768.000000   \n",
      "mean      3.845052  120.894531      69.105469      20.536458   79.799479   \n",
      "std       3.369578   31.972618      19.355807      15.952218  115.244002   \n",
      "min       0.000000    0.000000       0.000000       0.000000    0.000000   \n",
      "25%       1.000000   99.000000      62.000000       0.000000    0.000000   \n",
      "50%       3.000000  117.000000      72.000000      23.000000   30.500000   \n",
      "75%       6.000000  140.250000      80.000000      32.000000  127.250000   \n",
      "max      17.000000  199.000000     122.000000      99.000000  846.000000   \n",
      "\n",
      "              BMI  DiabetesPedigreeFunction         Age     Outcome  \n",
      "count  768.000000                768.000000  768.000000  768.000000  \n",
      "mean    31.992578                  0.471876   33.240885    0.348958  \n",
      "std      7.884160                  0.331329   11.760232    0.476951  \n",
      "min      0.000000                  0.078000   21.000000    0.000000  \n",
      "25%     27.300000                  0.243750   24.000000    0.000000  \n",
      "50%     32.000000                  0.372500   29.000000    0.000000  \n",
      "75%     36.600000                  0.626250   41.000000    1.000000  \n",
      "max     67.100000                  2.420000   81.000000    1.000000  \n"
     ]
    }
   ],
   "source": [
    "# Thống kê mô tả\n",
    "print(data.describe())"
   ]
  },
  {
   "cell_type": "markdown",
   "id": "9ab5d0b5",
   "metadata": {},
   "source": [
    "- Các thống kê mô tả chính và ý nghĩa:\n",
    "    + count: số lượng mẫu dữ liệu (ở đây tất cả cột = 768).\n",
    "    + mean: giá trị trung bình.\n",
    "    + std: độ lệch chuẩn → mức độ phân tán quanh trung bình.\n",
    "    + min, max: giá trị nhỏ nhất và lớn nhất.\n",
    "    + 25%, 50%, 75% (quartiles): các mốc phân vị → dùng để đánh giá sự phân phối dữ liệu."
   ]
  },
  {
   "cell_type": "markdown",
   "id": "ad1c043c",
   "metadata": {},
   "source": [
    "- Chỉ số đo lường sự biến động (Dispersion):\n",
    "    + std (độ lệch chuẩn):\n",
    "        + Glucose: 32 → biến thiên khá lớn, thể hiện sự khác biệt giữa người khỏe mạnh và người có nguy cơ cao.\n",
    "        + Insulin: 115, lớn hơn cả mean (~80) → chứng tỏ dữ liệu rất phân tán và nhiều ngoại lệ.\n",
    "        + BMI: 7.88 → tương đối ổn định, dao động vừa phải.\n",
    "        + Age: 11.8 → đa dạng độ tuổi, từ 21 đến 81 tuổi.\n",
    "- Khoảng (range = max - min):\n",
    "    + Pregnancies: 0–17, cho thấy có vài trường hợp đặc biệt mang thai rất nhiều lần.\n",
    "    + Insulin: 0–846, cực kỳ phân tán → cần chuẩn hóa hoặc log-transform khi phân tích.\n",
    "    + SkinThickness: 0–99, cũng có nhiều giá trị bất hợp lý."
   ]
  },
  {
   "cell_type": "markdown",
   "id": "4109a9f0",
   "metadata": {},
   "source": [
    "### 2.4. Kiểm tra giá trị thiếu (Missing Values) và giá trị trùng lặp"
   ]
  },
  {
   "cell_type": "code",
   "execution_count": null,
   "id": "bf696899",
   "metadata": {},
   "outputs": [
    {
     "data": {
      "text/plain": [
       "Pregnancies                 0\n",
       "Glucose                     0\n",
       "BloodPressure               0\n",
       "SkinThickness               0\n",
       "Insulin                     0\n",
       "BMI                         0\n",
       "DiabetesPedigreeFunction    0\n",
       "Age                         0\n",
       "Outcome                     0\n",
       "dtype: int64"
      ]
     },
     "metadata": {},
     "output_type": "display_data"
    }
   ],
   "source": [
    "data.isnull().sum()"
   ]
  },
  {
   "cell_type": "markdown",
   "id": "3dbb440b",
   "metadata": {},
   "source": [
    "- **Nhận xét:** Không có giá trị nào Null"
   ]
  },
  {
   "cell_type": "code",
   "execution_count": null,
   "id": "ff0c316e",
   "metadata": {},
   "outputs": [
    {
     "data": {
      "text/plain": [
       "Pregnancies                 111\n",
       "Glucose                       5\n",
       "BloodPressure                35\n",
       "SkinThickness               227\n",
       "Insulin                     374\n",
       "BMI                          11\n",
       "DiabetesPedigreeFunction      0\n",
       "Age                           0\n",
       "Outcome                     500\n",
       "dtype: int64"
      ]
     },
     "metadata": {},
     "output_type": "display_data"
    }
   ],
   "source": [
    "(data==0).sum()"
   ]
  },
  {
   "cell_type": "markdown",
   "id": "acec3b61",
   "metadata": {},
   "source": [
    "- **Nhận xét về dữ liệu có giá trị 0:**  \n",
    "   1. Pregnancies (111 giá trị 0):\n",
    "      + 0 lần mang thai là hợp lý (có những phụ nữ chưa từng mang thai).\n",
    "      + Không cần xử lý coi là missing.\n",
    "   2. Glucose (5 giá trị 0):\n",
    "      + Về mặt y khoa, glucose máu không thể = 0.\n",
    "      + Đây là giá trị bất thường → coi là dữ liệu thiếu.\n",
    "   3. BloodPressure (35 giá trị 0):\n",
    "      + Huyết áp tâm trương không thể = 0.\n",
    "      + Các giá trị này là missing values cần xử lý\n",
    "   4. SkinThickness (227 giá trị 0):\n",
    "      + 0 mm nếp gấp da là không hợp lý.\n",
    "      + Đây là một biến có nhiều thiếu dữ liệu (≈ 30% dữ liệu).\n",
    "   5. Insulin (374 giá trị 0):\n",
    "      + 0 µU/mL insulin là không thực tế.\n",
    "      + Biến này có nhiều dữ liệu thiếu nhất (≈ 49%).\n",
    "   6. BMI (11 giá trị 0):\n",
    "      + BMI = 0 là bất hợp lý.\n",
    "      + Một số ít dữ liệu cần xử lý missing.\n",
    "   7. DiabetesPedigreeFunction (0 giá trị 0):\n",
    "      + Không có giá trị 0, dữ liệu đầy đủ.\n",
    "   8. Age (0 giá trị 0):\n",
    "      + Không có giá trị 0, dữ liệu đầy đủ.\n",
    "   9. Outcome (500 giá trị 0):\n",
    "      + Đây là biến nhãn (class):\n",
    "         + 0 = không mắc tiểu đường (500 mẫu).\n",
    "         + 1 = mắc tiểu đường (268 mẫu).\n",
    "      + Đây không phải dữ liệu thiếu mà là nhãn hợp lệ."
   ]
  },
  {
   "cell_type": "code",
   "execution_count": null,
   "id": "913f3fff",
   "metadata": {},
   "outputs": [
    {
     "data": {
      "text/plain": [
       "0"
      ]
     },
     "metadata": {},
     "output_type": "display_data"
    }
   ],
   "source": [
    "data.duplicated().sum()"
   ]
  },
  {
   "cell_type": "markdown",
   "id": "146404d7",
   "metadata": {},
   "source": [
    "- **Nhận xét:** Không có giá trị nào trùng lặp"
   ]
  },
  {
   "cell_type": "code",
   "execution_count": null,
   "id": "1555bb31",
   "metadata": {},
   "outputs": [
    {
     "name": "stdout",
     "output_type": "stream",
     "text": [
      "\n",
      "Phân bố biến lớp (Outcome):\n",
      "Outcome\n",
      "0    500\n",
      "1    268\n",
      "Name: count, dtype: int64\n"
     ]
    }
   ],
   "source": [
    "# Phân bố lớp\n",
    "print(\"\\nPhân bố biến lớp (Outcome):\")\n",
    "print(data['Outcome'].value_counts())"
   ]
  },
  {
   "cell_type": "markdown",
   "id": "cbed3700",
   "metadata": {},
   "source": [
    "- **Nhận xét:** Tỉ lệ mắc 65% không tiểu đường, 35% có tiểu đường => Dataset có chênh lệch nhưng không quá nghiêm trọng"
   ]
  },
  {
   "cell_type": "markdown",
   "id": "5946feeb",
   "metadata": {},
   "source": [
    "### 2.5. Kiểm tra độ tương quan dữ liệu"
   ]
  },
  {
   "cell_type": "code",
   "execution_count": null,
   "id": "1c4defa7",
   "metadata": {},
   "outputs": [
    {
     "data": {
      "text/html": [
       "<div>\n",
       "<style scoped>\n",
       "    .dataframe tbody tr th:only-of-type {\n",
       "        vertical-align: middle;\n",
       "    }\n",
       "\n",
       "    .dataframe tbody tr th {\n",
       "        vertical-align: top;\n",
       "    }\n",
       "\n",
       "    .dataframe thead th {\n",
       "        text-align: right;\n",
       "    }\n",
       "</style>\n",
       "<table border=\"1\" class=\"dataframe\">\n",
       "  <thead>\n",
       "    <tr style=\"text-align: right;\">\n",
       "      <th></th>\n",
       "      <th>Pregnancies</th>\n",
       "      <th>Glucose</th>\n",
       "      <th>BloodPressure</th>\n",
       "      <th>SkinThickness</th>\n",
       "      <th>Insulin</th>\n",
       "      <th>BMI</th>\n",
       "      <th>DiabetesPedigreeFunction</th>\n",
       "      <th>Age</th>\n",
       "      <th>Outcome</th>\n",
       "    </tr>\n",
       "  </thead>\n",
       "  <tbody>\n",
       "    <tr>\n",
       "      <th>Pregnancies</th>\n",
       "      <td>1.000000</td>\n",
       "      <td>0.129459</td>\n",
       "      <td>0.141282</td>\n",
       "      <td>-0.081672</td>\n",
       "      <td>-0.073535</td>\n",
       "      <td>0.017683</td>\n",
       "      <td>-0.033523</td>\n",
       "      <td>0.544341</td>\n",
       "      <td>0.221898</td>\n",
       "    </tr>\n",
       "    <tr>\n",
       "      <th>Glucose</th>\n",
       "      <td>0.129459</td>\n",
       "      <td>1.000000</td>\n",
       "      <td>0.152590</td>\n",
       "      <td>0.057328</td>\n",
       "      <td>0.331357</td>\n",
       "      <td>0.221071</td>\n",
       "      <td>0.137337</td>\n",
       "      <td>0.263514</td>\n",
       "      <td>0.466581</td>\n",
       "    </tr>\n",
       "    <tr>\n",
       "      <th>BloodPressure</th>\n",
       "      <td>0.141282</td>\n",
       "      <td>0.152590</td>\n",
       "      <td>1.000000</td>\n",
       "      <td>0.207371</td>\n",
       "      <td>0.088933</td>\n",
       "      <td>0.281805</td>\n",
       "      <td>0.041265</td>\n",
       "      <td>0.239528</td>\n",
       "      <td>0.065068</td>\n",
       "    </tr>\n",
       "    <tr>\n",
       "      <th>SkinThickness</th>\n",
       "      <td>-0.081672</td>\n",
       "      <td>0.057328</td>\n",
       "      <td>0.207371</td>\n",
       "      <td>1.000000</td>\n",
       "      <td>0.436783</td>\n",
       "      <td>0.392573</td>\n",
       "      <td>0.183928</td>\n",
       "      <td>-0.113970</td>\n",
       "      <td>0.074752</td>\n",
       "    </tr>\n",
       "    <tr>\n",
       "      <th>Insulin</th>\n",
       "      <td>-0.073535</td>\n",
       "      <td>0.331357</td>\n",
       "      <td>0.088933</td>\n",
       "      <td>0.436783</td>\n",
       "      <td>1.000000</td>\n",
       "      <td>0.197859</td>\n",
       "      <td>0.185071</td>\n",
       "      <td>-0.042163</td>\n",
       "      <td>0.130548</td>\n",
       "    </tr>\n",
       "    <tr>\n",
       "      <th>BMI</th>\n",
       "      <td>0.017683</td>\n",
       "      <td>0.221071</td>\n",
       "      <td>0.281805</td>\n",
       "      <td>0.392573</td>\n",
       "      <td>0.197859</td>\n",
       "      <td>1.000000</td>\n",
       "      <td>0.140647</td>\n",
       "      <td>0.036242</td>\n",
       "      <td>0.292695</td>\n",
       "    </tr>\n",
       "    <tr>\n",
       "      <th>DiabetesPedigreeFunction</th>\n",
       "      <td>-0.033523</td>\n",
       "      <td>0.137337</td>\n",
       "      <td>0.041265</td>\n",
       "      <td>0.183928</td>\n",
       "      <td>0.185071</td>\n",
       "      <td>0.140647</td>\n",
       "      <td>1.000000</td>\n",
       "      <td>0.033561</td>\n",
       "      <td>0.173844</td>\n",
       "    </tr>\n",
       "    <tr>\n",
       "      <th>Age</th>\n",
       "      <td>0.544341</td>\n",
       "      <td>0.263514</td>\n",
       "      <td>0.239528</td>\n",
       "      <td>-0.113970</td>\n",
       "      <td>-0.042163</td>\n",
       "      <td>0.036242</td>\n",
       "      <td>0.033561</td>\n",
       "      <td>1.000000</td>\n",
       "      <td>0.238356</td>\n",
       "    </tr>\n",
       "    <tr>\n",
       "      <th>Outcome</th>\n",
       "      <td>0.221898</td>\n",
       "      <td>0.466581</td>\n",
       "      <td>0.065068</td>\n",
       "      <td>0.074752</td>\n",
       "      <td>0.130548</td>\n",
       "      <td>0.292695</td>\n",
       "      <td>0.173844</td>\n",
       "      <td>0.238356</td>\n",
       "      <td>1.000000</td>\n",
       "    </tr>\n",
       "  </tbody>\n",
       "</table>\n",
       "</div>"
      ],
      "text/plain": [
       "                          Pregnancies   Glucose  BloodPressure  SkinThickness  \\\n",
       "Pregnancies                  1.000000  0.129459       0.141282      -0.081672   \n",
       "Glucose                      0.129459  1.000000       0.152590       0.057328   \n",
       "BloodPressure                0.141282  0.152590       1.000000       0.207371   \n",
       "SkinThickness               -0.081672  0.057328       0.207371       1.000000   \n",
       "Insulin                     -0.073535  0.331357       0.088933       0.436783   \n",
       "BMI                          0.017683  0.221071       0.281805       0.392573   \n",
       "DiabetesPedigreeFunction    -0.033523  0.137337       0.041265       0.183928   \n",
       "Age                          0.544341  0.263514       0.239528      -0.113970   \n",
       "Outcome                      0.221898  0.466581       0.065068       0.074752   \n",
       "\n",
       "                           Insulin       BMI  DiabetesPedigreeFunction  \\\n",
       "Pregnancies              -0.073535  0.017683                 -0.033523   \n",
       "Glucose                   0.331357  0.221071                  0.137337   \n",
       "BloodPressure             0.088933  0.281805                  0.041265   \n",
       "SkinThickness             0.436783  0.392573                  0.183928   \n",
       "Insulin                   1.000000  0.197859                  0.185071   \n",
       "BMI                       0.197859  1.000000                  0.140647   \n",
       "DiabetesPedigreeFunction  0.185071  0.140647                  1.000000   \n",
       "Age                      -0.042163  0.036242                  0.033561   \n",
       "Outcome                   0.130548  0.292695                  0.173844   \n",
       "\n",
       "                               Age   Outcome  \n",
       "Pregnancies               0.544341  0.221898  \n",
       "Glucose                   0.263514  0.466581  \n",
       "BloodPressure             0.239528  0.065068  \n",
       "SkinThickness            -0.113970  0.074752  \n",
       "Insulin                  -0.042163  0.130548  \n",
       "BMI                       0.036242  0.292695  \n",
       "DiabetesPedigreeFunction  0.033561  0.173844  \n",
       "Age                       1.000000  0.238356  \n",
       "Outcome                   0.238356  1.000000  "
      ]
     },
     "metadata": {},
     "output_type": "display_data"
    }
   ],
   "source": [
    "data.corr()"
   ]
  },
  {
   "cell_type": "markdown",
   "id": "935aac1f",
   "metadata": {},
   "source": [
    "**Nhận xét độ tương quan**\n",
    "\n",
    "- **Glucose ↔ Outcome** (0.49): mối quan hệ mạnh nhất, đường huyết cao liên quan trực tiếp đến tiểu đường.  \n",
    "- **BMI** (0.31)**, Age** (0.24)**, Pregnancies**(0.22) **↔ Outcome**: cũng có ảnh hưởng, lần lượt theo mức độ.  \n",
    "- **Age ↔ Pregnancies** (0.54) và **SkinThickness ↔ BMI** (0.54): quan hệ chặt chẽ, hợp lý về mặt sinh lý.  \n",
    "- Các biến khác (BloodPressure, Insulin, DPF) có tương quan yếu hơn.  \n",
    "\n",
    "**=>** Glucose là biến quan trọng nhất, sau đó đến BMI, Age và Pregnancies.\n"
   ]
  },
  {
   "cell_type": "markdown",
   "id": "16efbd45",
   "metadata": {},
   "source": [
    "## 3. Chuẩn bị dữ liệu (Prepare Data)"
   ]
  },
  {
   "cell_type": "markdown",
   "id": "a3b6d75a",
   "metadata": {},
   "source": [
    "### 3.1 Làm sạch dữ liệu (Data Cleaning)"
   ]
  },
  {
   "cell_type": "markdown",
   "id": "8d4860c4",
   "metadata": {},
   "source": [
    "#### Xử lý dữ liệu bị thiếu\n",
    "- Dữ liệu này không có giá trị nào Null, chỉ có giá trị bằng 0, nên ta thay giá trị 0 bằng NaN để xử lý"
   ]
  },
  {
   "cell_type": "code",
   "execution_count": null,
   "id": "a2ae948a",
   "metadata": {},
   "outputs": [
    {
     "name": "stdout",
     "output_type": "stream",
     "text": [
      "Số lượng giá trị thiếu sau khi xử lý:\n",
      "Pregnancies                 0\n",
      "Glucose                     0\n",
      "BloodPressure               0\n",
      "SkinThickness               0\n",
      "Insulin                     0\n",
      "BMI                         0\n",
      "DiabetesPedigreeFunction    0\n",
      "Age                         0\n",
      "Outcome                     0\n",
      "dtype: int64\n"
     ]
    }
   ],
   "source": [
    "from sklearn.impute import SimpleImputer\n",
    "# Thay thế giá trị 0 bằng NaN để xử lý\n",
    "for column in ['Glucose', 'BloodPressure', 'SkinThickness', 'Insulin', 'BMI']:\n",
    "    data[column] = data[column].replace(0, np.nan)\n",
    "\n",
    "# Sử dụng SimpleImputer để điền giá trị thiếu bằng trung bình\n",
    "imputer = SimpleImputer(strategy='mean')\n",
    "data[['Glucose', 'BloodPressure', 'SkinThickness', 'Insulin', 'BMI']] = imputer.fit_transform(data[['Glucose', 'BloodPressure', 'SkinThickness', 'Insulin', 'BMI']])\n",
    "\n",
    "# Kiểm tra lại số lượng giá trị thiếu\n",
    "print(\"Số lượng giá trị thiếu sau khi xử lý:\")\n",
    "print(data.isnull().sum())"
   ]
  },
  {
   "cell_type": "markdown",
   "id": "ce8f8df9",
   "metadata": {},
   "source": [
    "- Việc thay thế bằng trung bình giúp duy trì tính đại diện của dữ liệu mà không làm mất thông tin quan trọng.\n",
    "    - SimpleImputer với chiến lược mean thay thế các giá trị thiếu (bao gồm cả null và NaN) bằng trung bình của cột, giữ nguyên ý nghĩa thống kê.\n",
    "    - Sau khi xử lý, tất cả giá trị thiếu sẽ được điền, đảm bảo dữ liệu không còn khoảng trống."
   ]
  },
  {
   "cell_type": "markdown",
   "id": "c012bce6",
   "metadata": {},
   "source": [
    "#### Xử lý chuẩn hóa dữ liệu"
   ]
  },
  {
   "cell_type": "markdown",
   "id": "502dc5a4",
   "metadata": {},
   "source": [
    "- Giới thiệu MinMaxScaler (sklearn.preprocessing)\n",
    "- **MinMaxScaler** là một công cụ trong thư viện **Scikit-learn** dùng để **chuẩn hóa dữ liệu (feature scaling)**.  \n",
    "- Nguyên lý hoạt động: đưa toàn bộ giá trị của một biến về trong **khoảng [0, 1]** (hoặc một khoảng tùy chọn do người dùng định nghĩa). \n",
    "Công thức biến đổi:\n",
    "$$\n",
    "X' = \\frac{X - X_{min}}{X_{max} - X_{min}}\n",
    "$$\n",
    "Trong đó:  \n",
    "- \\(X\\) là giá trị gốc,  \n",
    "- \\(X_{min}\\) là giá trị nhỏ nhất của cột,  \n",
    "- \\(X_{max}\\) là giá trị lớn nhất của cột,  \n",
    "- \\(X'\\) là giá trị đã được scale (nằm trong [0,1]). "
   ]
  },
  {
   "cell_type": "code",
   "execution_count": null,
   "id": "df45551d",
   "metadata": {},
   "outputs": [
    {
     "name": "stdout",
     "output_type": "stream",
     "text": [
      "\n",
      "Phạm vi giá trị của các cột:\n",
      "       Pregnancies     Glucose  BloodPressure  SkinThickness     Insulin  \\\n",
      "count   768.000000  768.000000     768.000000     768.000000  768.000000   \n",
      "mean      3.845052  121.686763      72.405184      29.153420  155.548223   \n",
      "std       3.369578   30.435949      12.096346       8.790942   85.021108   \n",
      "min       0.000000   44.000000      24.000000       7.000000   14.000000   \n",
      "25%       1.000000   99.750000      64.000000      25.000000  121.500000   \n",
      "50%       3.000000  117.000000      72.202592      29.153420  155.548223   \n",
      "75%       6.000000  140.250000      80.000000      32.000000  155.548223   \n",
      "max      17.000000  199.000000     122.000000      99.000000  846.000000   \n",
      "\n",
      "              BMI  DiabetesPedigreeFunction         Age     Outcome  \n",
      "count  768.000000                768.000000  768.000000  768.000000  \n",
      "mean    32.457464                  0.471876   33.240885    0.348958  \n",
      "std      6.875151                  0.331329   11.760232    0.476951  \n",
      "min     18.200000                  0.078000   21.000000    0.000000  \n",
      "25%     27.500000                  0.243750   24.000000    0.000000  \n",
      "50%     32.400000                  0.372500   29.000000    0.000000  \n",
      "75%     36.600000                  0.626250   41.000000    1.000000  \n",
      "max     67.100000                  2.420000   81.000000    1.000000  \n",
      "\n",
      "5 dòng đầu của dữ liệu đã chuẩn hóa:\n",
      "   Pregnancies   Glucose  BloodPressure  SkinThickness   Insulin       BMI  \\\n",
      "0     0.352941  0.670968       0.489796       0.304348  0.170130  0.314928   \n",
      "1     0.058824  0.264516       0.428571       0.239130  0.170130  0.171779   \n",
      "2     0.470588  0.896774       0.408163       0.240798  0.170130  0.104294   \n",
      "3     0.058824  0.290323       0.428571       0.173913  0.096154  0.202454   \n",
      "4     0.000000  0.600000       0.163265       0.304348  0.185096  0.509202   \n",
      "\n",
      "   DiabetesPedigreeFunction       Age  Outcome  \n",
      "0                  0.234415  0.483333        1  \n",
      "1                  0.116567  0.166667        0  \n",
      "2                  0.253629  0.183333        1  \n",
      "3                  0.038002  0.000000        0  \n",
      "4                  0.943638  0.200000        1  \n"
     ]
    }
   ],
   "source": [
    "# Chuẩn hóa dữ liệu bằng MinMaxScaler\n",
    "from sklearn.preprocessing import MinMaxScaler\n",
    "\n",
    "# Kiểm tra phạm vi giá trị của các cột\n",
    "print(\"\\nPhạm vi giá trị của các cột:\")\n",
    "print(data.describe())\n",
    "\n",
    "scaler = MinMaxScaler()\n",
    "data_scaled = pd.DataFrame(scaler.fit_transform(data.drop('Outcome', axis=1)), columns=data.drop('Outcome', axis=1).columns)\n",
    "data_scaled['Outcome'] = data['Outcome']\n",
    "\n",
    "# Hiển thị 5 dòng đầu của dữ liệu đã chuẩn hóa\n",
    "print(\"\\n5 dòng đầu của dữ liệu đã chuẩn hóa:\")\n",
    "print(data_scaled.head())"
   ]
  },
  {
   "cell_type": "markdown",
   "id": "b60ba787",
   "metadata": {},
   "source": [
    "- describe() kiểm tra phạm vi giá trị (min, max) để đánh giá cần chuẩn hóa không. Ví dụ, Age và Pregnancies có thể có giá trị lớn hơn các cột khác.\n",
    "- MinMaxScaler chuẩn hóa dữ liệu về khoảng [0, 1], giúp các thuộc tính có cùng thang đo, đặc biệt quan trọng cho mô hình hóa sau này.\n",
    "- Dữ liệu chuẩn hóa được lưu vào data_scaled. Có thể gán data = data_scaled nếu muốn sử dụng ngay."
   ]
  },
  {
   "cell_type": "markdown",
   "id": "1419d2dc",
   "metadata": {},
   "source": []
  },
  {
   "cell_type": "markdown",
   "id": "6bbd586a",
   "metadata": {},
   "source": [
    "#### Kiểm tra dữ liệu sau khi xử lý"
   ]
  },
  {
   "cell_type": "code",
   "execution_count": null,
   "id": "3c8eb822",
   "metadata": {},
   "outputs": [
    {
     "name": "stdout",
     "output_type": "stream",
     "text": [
      "\n",
      "Thông tin cơ bản về dữ liệu sau khi xử lý:\n",
      "<class 'pandas.core.frame.DataFrame'>\n",
      "RangeIndex: 768 entries, 0 to 767\n",
      "Data columns (total 9 columns):\n",
      " #   Column                    Non-Null Count  Dtype  \n",
      "---  ------                    --------------  -----  \n",
      " 0   Pregnancies               768 non-null    int64  \n",
      " 1   Glucose                   768 non-null    float64\n",
      " 2   BloodPressure             768 non-null    float64\n",
      " 3   SkinThickness             768 non-null    float64\n",
      " 4   Insulin                   768 non-null    float64\n",
      " 5   BMI                       768 non-null    float64\n",
      " 6   DiabetesPedigreeFunction  768 non-null    float64\n",
      " 7   Age                       768 non-null    int64  \n",
      " 8   Outcome                   768 non-null    int64  \n",
      "dtypes: float64(6), int64(3)\n",
      "memory usage: 54.1 KB\n",
      "None\n",
      "\n",
      "Phân bố biến lớp (Outcome) sau khi xử lý:\n",
      "Outcome\n",
      "0    500\n",
      "1    268\n",
      "Name: count, dtype: int64\n"
     ]
    }
   ],
   "source": [
    "# Hiển thị thông tin cơ bản sau khi xử lý\n",
    "print(\"\\nThông tin cơ bản về dữ liệu sau khi xử lý:\")\n",
    "print(data.info())\n",
    "\n",
    "# Phân bố lớp sau khi xử lý\n",
    "print(\"\\nPhân bố biến lớp (Outcome) sau khi xử lý:\")\n",
    "print(data['Outcome'].value_counts())"
   ]
  },
  {
   "cell_type": "markdown",
   "id": "013f3831",
   "metadata": {},
   "source": [
    "- info() xác nhận không còn giá trị thiếu và kiểu dữ liệu phù hợp.\n",
    "- value_counts() kiểm tra phân bố lớp vẫn giữ nguyên (500 mẫu 0 và 268 mẫu 1), đảm bảo không mất dữ liệu quan trọng."
   ]
  },
  {
   "cell_type": "markdown",
   "id": "91fdb943",
   "metadata": {},
   "source": [
    "## 4. Phân tích dữ liệu (Analyze Data)"
   ]
  },
  {
   "cell_type": "markdown",
   "id": "4430aab5",
   "metadata": {},
   "source": [
    "### 4.1 Mô tả vấn đề"
   ]
  },
  {
   "cell_type": "markdown",
   "id": "2345e051",
   "metadata": {},
   "source": [
    "- Mục tiêu: \n",
    "    - Trong phần này, chúng ta sẽ trực quan hóa dataset Pima Indians Diabetes để khám phá các xu hướng, mối quan hệ giữa các thuộc tính, và nhận xét dựa trên phân tích. Đặc biệt, mình sẽ áp dụng các công thức và phương pháp từ bài báo \"Using the ADAP Learning Algorithm\" (paper2.pdf), như độ nhạy (sensitivity), độ đặc hiệu (specificity), và đường cong ROC, để đánh giá hiệu suất dự đoán đái tháo đường. Điều này giúp hiểu rõ hơn về dữ liệu và chuẩn bị cho mô hình hóa.\n",
    "\n",
    "- Dữ liệu: \n",
    "    - Dataset đã được làm sạch trong Phần 3 ***(data_scaled)***, với 768 mẫu, 8 thuộc tính y tế, và biến lớp Outcome (0: Không đái tháo đường, 1: Có đái tháo đường)."
   ]
  },
  {
   "cell_type": "markdown",
   "id": "7e1a7449",
   "metadata": {},
   "source": [
    "### 4.2 Thống kê mô tả"
   ]
  },
  {
   "cell_type": "markdown",
   "id": "d9eaa563",
   "metadata": {},
   "source": [
    "#### 4.2.1 Hiển thị một số thông tin về dữ liệu\n",
    "+ Số dòng, số cột của dữ liệu\n",
    "+ Kiểu dữ liệu của từng cột\n",
    "+ 5 dòng đầu và 5 dòng cuối của bảng dữ liệu\n",
    "+ Thông tin chung về dữ liệu"
   ]
  },
  {
   "cell_type": "code",
   "execution_count": null,
   "id": "9433804c",
   "metadata": {},
   "outputs": [
    {
     "name": "stdout",
     "output_type": "stream",
     "text": [
      "+ Shape: (768, 9)\n",
      "+ Data Types: \n",
      "Pregnancies                 float64\n",
      "Glucose                     float64\n",
      "BloodPressure               float64\n",
      "SkinThickness               float64\n",
      "Insulin                     float64\n",
      "BMI                         float64\n",
      "DiabetesPedigreeFunction    float64\n",
      "Age                         float64\n",
      "Outcome                       int64\n",
      "dtype: object\n",
      "+ Contents: \n",
      "--- First 5 rows ---\n",
      "   Pregnancies   Glucose  BloodPressure  SkinThickness   Insulin       BMI  \\\n",
      "0     0.352941  0.670968       0.489796       0.304348  0.170130  0.314928   \n",
      "1     0.058824  0.264516       0.428571       0.239130  0.170130  0.171779   \n",
      "2     0.470588  0.896774       0.408163       0.240798  0.170130  0.104294   \n",
      "3     0.058824  0.290323       0.428571       0.173913  0.096154  0.202454   \n",
      "4     0.000000  0.600000       0.163265       0.304348  0.185096  0.509202   \n",
      "\n",
      "   DiabetesPedigreeFunction       Age  Outcome  \n",
      "0                  0.234415  0.483333        1  \n",
      "1                  0.116567  0.166667        0  \n",
      "2                  0.253629  0.183333        1  \n",
      "3                  0.038002  0.000000        0  \n",
      "4                  0.943638  0.200000        1  \n",
      "--- Last 5 rows ---\n",
      "     Pregnancies   Glucose  BloodPressure  SkinThickness   Insulin       BMI  \\\n",
      "763     0.588235  0.367742       0.530612       0.445652  0.199519  0.300613   \n",
      "764     0.117647  0.503226       0.469388       0.217391  0.170130  0.380368   \n",
      "765     0.294118  0.496774       0.489796       0.173913  0.117788  0.163599   \n",
      "766     0.058824  0.529032       0.367347       0.240798  0.170130  0.243354   \n",
      "767     0.058824  0.316129       0.469388       0.260870  0.170130  0.249489   \n",
      "\n",
      "     DiabetesPedigreeFunction       Age  Outcome  \n",
      "763                  0.039710  0.700000        0  \n",
      "764                  0.111870  0.100000        0  \n",
      "765                  0.071307  0.150000        0  \n",
      "766                  0.115713  0.433333        1  \n",
      "767                  0.101196  0.033333        0  \n",
      "<class 'pandas.core.frame.DataFrame'>\n",
      "RangeIndex: 768 entries, 0 to 767\n",
      "Data columns (total 9 columns):\n",
      " #   Column                    Non-Null Count  Dtype  \n",
      "---  ------                    --------------  -----  \n",
      " 0   Pregnancies               768 non-null    float64\n",
      " 1   Glucose                   768 non-null    float64\n",
      " 2   BloodPressure             768 non-null    float64\n",
      " 3   SkinThickness             768 non-null    float64\n",
      " 4   Insulin                   768 non-null    float64\n",
      " 5   BMI                       768 non-null    float64\n",
      " 6   DiabetesPedigreeFunction  768 non-null    float64\n",
      " 7   Age                       768 non-null    float64\n",
      " 8   Outcome                   768 non-null    int64  \n",
      "dtypes: float64(8), int64(1)\n",
      "memory usage: 54.1 KB\n"
     ]
    }
   ],
   "source": [
    "# shape\n",
    "print(f'+ Shape: {data_scaled.shape}')\n",
    "# types\n",
    "print(f'+ Data Types: \\n{data_scaled.dtypes}')\n",
    "# head, tail\n",
    "print(f'+ Contents: ')\n",
    "print('--- First 5 rows ---')\n",
    "print(data_scaled.head(5))\n",
    "print('--- Last 5 rows ---')\n",
    "print(data_scaled.tail(5))\n",
    "# info\n",
    "data_scaled.info()"
   ]
  },
  {
   "cell_type": "markdown",
   "id": "c6860976",
   "metadata": {},
   "source": [
    "**Nhận xét:**\n",
    "\n",
    "- Dataset sau khi chuẩn hóa (`data_scaled`) có 768 dòng và 9 cột, không có giá trị thiếu, đảm bảo chất lượng dữ liệu cho phân tích tiếp theo.\n",
    "- Các thuộc tính số đã được chuẩn hóa về khoảng [0, 1], giúp các đặc trưng có cùng thang đo, thuận lợi cho các thuật toán học máy.\n",
    "- Kiểu dữ liệu của các cột phù hợp: hầu hết là `float64`, riêng biến mục tiêu `Outcome` là `int64`.\n",
    "- Phân bố lớp (`Outcome`) vẫn giữ nguyên, đảm bảo không mất dữ liệu quan trọng sau các bước xử lý.\n",
    "- Việc chuẩn hóa và làm sạch dữ liệu giúp tăng độ tin cậy và hiệu quả cho các bước phân tích, trực quan hóa và xây dựng mô hình dự đoán sau này."
   ]
  },
  {
   "cell_type": "markdown",
   "id": "a1d87aa1",
   "metadata": {},
   "source": [
    "#### 4.2.2 Kiểm tra tính toàn vẹn của dữ liệu\n",
    "1. Có còn giá trị thiếu (NaN, Null) nào trong từng cột không?\n",
    "2. Có dòng dữ liệu nào bị trùng lặp không?\n",
    "3. Các giá trị của biến mục tiêu (Outcome) có nằm ngoài tập {0, 1} không?\n",
    "4. Có cột nào chứa toàn giá trị giống nhau không?\n",
    "5. Các cột số đã chuẩn hóa có nằm trong khoảng [0, 1] không?"
   ]
  },
  {
   "cell_type": "code",
   "execution_count": null,
   "id": "1876f0a5",
   "metadata": {},
   "outputs": [
    {
     "name": "stdout",
     "output_type": "stream",
     "text": [
      "1. Có còn giá trị thiếu (NaN, Null) nào trong từng cột không?\n",
      "Pregnancies                 0\n",
      "Glucose                     0\n",
      "BloodPressure               0\n",
      "SkinThickness               0\n",
      "Insulin                     0\n",
      "BMI                         0\n",
      "DiabetesPedigreeFunction    0\n",
      "Age                         0\n",
      "Outcome                     0\n",
      "dtype: int64\n",
      "\n",
      "2. Có dòng dữ liệu nào bị trùng lặp không?\n",
      "Số dòng trùng lặp: 0\n",
      "\n",
      "3. Các giá trị của biến mục tiêu (Outcome) có nằm ngoài tập {0, 1} không?\n",
      "[1 0]\n",
      "\n",
      "4. Có cột nào chứa toàn giá trị giống nhau không?\n",
      "\n",
      "5. Các cột số đã chuẩn hóa có nằm trong khoảng [0, 1] không?\n",
      "Cột BMI có giá trị ngoài khoảng [0, 1]: min=0.0, max=1.0000000000000002\n"
     ]
    }
   ],
   "source": [
    "\n",
    "# Kiểm tra tính toàn vẹn của dữ liệu\n",
    "print(\"1. Có còn giá trị thiếu (NaN, Null) nào trong từng cột không?\")\n",
    "print(data_scaled.isnull().sum())\n",
    "\n",
    "print(\"\\n2. Có dòng dữ liệu nào bị trùng lặp không?\")\n",
    "print(f\"Số dòng trùng lặp: {data_scaled.duplicated().sum()}\")\n",
    "\n",
    "print(\"\\n3. Các giá trị của biến mục tiêu (Outcome) có nằm ngoài tập {0, 1} không?\")\n",
    "print(data_scaled['Outcome'].unique())\n",
    "\n",
    "print(\"\\n4. Có cột nào chứa toàn giá trị giống nhau không?\")    \n",
    "for col in data_scaled.columns:\n",
    "    if data_scaled[col].nunique() == 1:\n",
    "        print(f\"Cột {col} chỉ có một giá trị duy nhất.\")\n",
    "        \n",
    "print(\"\\n5. Các cột số đã chuẩn hóa có nằm trong khoảng [0, 1] không?\")\n",
    "for col in data_scaled.columns:\n",
    "    if col != 'Outcome':\n",
    "        min_val = data_scaled[col].min()\n",
    "        max_val = data_scaled[col].max()\n",
    "        if min_val < 0 or max_val > 1:\n",
    "            print(f\"Cột {col} có giá trị ngoài khoảng [0, 1]: min={min_val}, max={max_val}\")"
   ]
  },
  {
   "cell_type": "code",
   "execution_count": null,
   "id": "0056754e",
   "metadata": {},
   "outputs": [],
   "source": [
    "data.to_csv('output.csv', index=False)"
   ]
  },
  {
   "cell_type": "markdown",
   "id": "3ee38325",
   "metadata": {},
   "source": [
    "**Nhận xét:**\n",
    "- Không còn giá trị thiếu (NaN, Null) trong bất kỳ cột nào, đảm bảo dữ liệu đầy đủ cho phân tích.\n",
    "- Không có dòng dữ liệu nào bị trùng lặp, dữ liệu duy nhất và đáng tin cậy.\n",
    "- Biến mục tiêu (Outcome) chỉ chứa giá trị 0 và 1, đúng định dạng nhị phân.\n",
    "- Không có cột nào chứa toàn giá trị giống nhau, đảm bảo các thuộc tính đều có ý nghĩa phân biệt.\n",
    "- Các cột số đã được chuẩn hóa nằm trong khoảng [0, 1], phù hợp cho các thuật toán học máy và phân tích tiếp theo."
   ]
  }
 ],
 "metadata": {
  "language_info": {
   "name": "python"
  }
 },
 "nbformat": 4,
 "nbformat_minor": 5
}
