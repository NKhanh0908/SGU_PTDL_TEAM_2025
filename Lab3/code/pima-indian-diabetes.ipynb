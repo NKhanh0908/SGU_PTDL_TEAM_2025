{
 "cells": [
  {
   "cell_type": "markdown",
   "id": "1f1f004b",
   "metadata": {},
   "source": [
    "# Bệnh đái tháo đường ở nữ giới Pima Indian"
   ]
  },
  {
   "cell_type": "markdown",
   "id": "7723a3fe",
   "metadata": {},
   "source": [
    "## 1. Giới thiệu\n",
    "\n",
    "### Mô tả vấn đề\n",
    "Bệnh tiểu đường là một trong những bệnh mạn tính phổ biến và nguy hiểm, đặc biệt trong nhóm người có yếu tố nguy cơ như béo phì, tuổi cao, hoặc có tiền sử gia đình.  \n",
    "Bộ dữ liệu **Pima Indians Diabetes** được thu thập từ phụ nữ Pima (Arizona, Mỹ) ≥ 21 tuổi, nhằm mục tiêu phân tích các yếu tố sức khỏe liên quan đến khả năng mắc bệnh tiểu đường.  \n",
    "\n",
    "### Mục tiêu phân tích\n",
    "- Khám phá đặc điểm dữ liệu và kiểm tra chất lượng dữ liệu (missing values, ngoại lai).\n",
    "- Phân tích mối quan hệ giữa các chỉ số sức khỏe (Glucose, BMI, Age, …) và biến mục tiêu `Outcome`.\n",
    "- Xác định những biến quan trọng có thể hữu ích cho việc xây dựng mô hình dự đoán.  \n",
    "\n",
    "### Thông tin cơ bản về dữ liệu\n",
    "- **Số mẫu**: 768  \n",
    "- **Số thuộc tính**: 8 đặc trưng + 1 biến mục tiêu  \n",
    "- **Biến mục tiêu**: `Outcome` (0 = không tiểu đường, 1 = có tiểu đường)  \n",
    "\n",
    "### Các bước tiếp theo \n",
    "1. Import thư viện & nạp dữ liệu\n",
    "2. Khám phá cấu trúc dữ liệu\n",
    "3. Phân tích đơn biến\n",
    "4. Phân tích đa biến\n",
    "5. Kiểm tra tương quan\n",
    "6. Tóm tắt insights"
   ]
  },
  {
   "cell_type": "markdown",
   "id": "8eba1c80",
   "metadata": {},
   "source": [
    "## 2. Import thư viện và nạp dữ liệu"
   ]
  },
  {
   "cell_type": "markdown",
   "id": "b7149173",
   "metadata": {},
   "source": [
    "### 2.1 Khai báo thư viện (Load Libraries)"
   ]
  },
  {
   "cell_type": "markdown",
   "id": "070cf7d4",
   "metadata": {},
   "source": [
    "- **pandas**: dùng để xử lý dữ liệu dạng bảng (DataFrame), hỗ trợ đọc, ghi, và thao tác dữ liệu.\n",
    "- **numpy**: thư viện tính toán số học, hỗ trợ mảng đa chiều và các phép toán nhanh chóng.\n",
    "- **scikit-learn (SimpleImputer)**: cung cấp công cụ để xử lý giá trị thiếu (missing values), ở đây dùng `SimpleImputer`.\n",
    "- **seaborn**: thư viện trực quan hóa dữ liệu, giúp vẽ các biểu đồ đẹp và dễ nhìn hơn.\n",
    "- **matplotlib.pyplot**: thư viện cơ bản để vẽ biểu đồ trong Python."
   ]
  },
  {
   "cell_type": "code",
   "execution_count": 25,
   "id": "b7dfeb97",
   "metadata": {},
   "outputs": [],
   "source": [
    "import pandas as pd\n",
    "import numpy as np\n",
    "import seaborn as sns\n",
    "import matplotlib.pyplot as plt"
   ]
  },
  {
   "cell_type": "markdown",
   "id": "e3005a34",
   "metadata": {},
   "source": [
    "### 2.2 Nạp dữ liệu (Load Dataset)"
   ]
  },
  {
   "cell_type": "markdown",
   "id": "a20463fb",
   "metadata": {},
   "source": [
    "- Thực hiện việc **nạp dữ liệu gốc** từ file `pima-indians-diabetes.csv` vào Python bằng thư viện `pandas`.  \n",
    "- Do file CSV không chứa tiêu đề cột (header), ta cần **gán tên cột** dựa trên mô tả trong tài liệu nghiên cứu gốc.  \n",
    "- Kết quả: dữ liệu được lưu vào một **DataFrame** có cấu trúc rõ ràng."
   ]
  },
  {
   "cell_type": "code",
   "execution_count": 3,
   "id": "88cf957f",
   "metadata": {},
   "outputs": [],
   "source": [
    "# Đọc dữ liệu từ file CSV\n",
    "data_path = 'pima-indians-diabetes.csv'  # Đường dẫn tới file dữ liệu\n",
    "\n",
    "# Gán tên cột dựa trên mô tả trong tài liệu\n",
    "column_names = ['Pregnancies', 'Glucose', 'BloodPressure', 'SkinThickness', 'Insulin', 'BMI', 'DiabetesPedigreeFunction', 'Age', 'Outcome'] # Tên các cột\n",
    "\n",
    "# Đọc dữ liệu từ file CSV\n",
    "data = pd.read_csv(data_path, header=None, names=column_names)"
   ]
  },
  {
   "cell_type": "markdown",
   "id": "b8cbc09d",
   "metadata": {},
   "source": [
    "### 2.3. Khám phá cấu trúc dữ liệu"
   ]
  },
  {
   "cell_type": "markdown",
   "id": "a2934ff6",
   "metadata": {},
   "source": [
    "- Sử dụng các hàm cơ bản của pd đễ hỗ trợ cho chúng ta có một cái nhìn tổng quát về số liệu của file "
   ]
  },
  {
   "cell_type": "code",
   "execution_count": 16,
   "id": "6019a8c8",
   "metadata": {},
   "outputs": [
    {
     "data": {
      "text/plain": [
       "(768, 9)"
      ]
     },
     "execution_count": 16,
     "metadata": {},
     "output_type": "execute_result"
    }
   ],
   "source": [
    "data.shape"
   ]
  },
  {
   "cell_type": "code",
   "execution_count": 18,
   "id": "d3a9f996",
   "metadata": {},
   "outputs": [
    {
     "data": {
      "text/plain": [
       "Index(['Pregnancies', 'Glucose', 'BloodPressure', 'SkinThickness', 'Insulin',\n",
       "       'BMI', 'DiabetesPedigreeFunction', 'Age', 'Outcome'],\n",
       "      dtype='object')"
      ]
     },
     "execution_count": 18,
     "metadata": {},
     "output_type": "execute_result"
    }
   ],
   "source": [
    "data.columns"
   ]
  },
  {
   "cell_type": "code",
   "execution_count": null,
   "id": "f173fa0f",
   "metadata": {},
   "outputs": [
    {
     "name": "stdout",
     "output_type": "stream",
     "text": [
      "5 dòng đầu của dữ liệu:\n",
      "   Pregnancies  Glucose  BloodPressure  SkinThickness  Insulin   BMI  \\\n",
      "0            6      148             72             35        0  33.6   \n",
      "1            1       85             66             29        0  26.6   \n",
      "2            8      183             64              0        0  23.3   \n",
      "3            1       89             66             23       94  28.1   \n",
      "4            0      137             40             35      168  43.1   \n",
      "\n",
      "   DiabetesPedigreeFunction  Age  Outcome  \n",
      "0                     0.627   50        1  \n",
      "1                     0.351   31        0  \n",
      "2                     0.672   32        1  \n",
      "3                     0.167   21        0  \n",
      "4                     2.288   33        1  \n"
     ]
    }
   ],
   "source": [
    "# Hiển thị 5 dòng đầu để kiểm tra\n",
    "print(\"5 dòng đầu của dữ liệu:\")\n",
    "print(data.head())"
   ]
  },
  {
   "cell_type": "code",
   "execution_count": 19,
   "id": "d67a9543",
   "metadata": {},
   "outputs": [
    {
     "name": "stdout",
     "output_type": "stream",
     "text": [
      "5 dòng cuối của dữ liệu:\n",
      "     Pregnancies  Glucose  BloodPressure  SkinThickness     Insulin   BMI  \\\n",
      "763           10    101.0           76.0       48.00000  180.000000  32.9   \n",
      "764            2    122.0           70.0       27.00000  155.548223  36.8   \n",
      "765            5    121.0           72.0       23.00000  112.000000  26.2   \n",
      "766            1    126.0           60.0       29.15342  155.548223  30.1   \n",
      "767            1     93.0           70.0       31.00000  155.548223  30.4   \n",
      "\n",
      "     DiabetesPedigreeFunction  Age  Outcome  \n",
      "763                     0.171   63        0  \n",
      "764                     0.340   27        0  \n",
      "765                     0.245   30        0  \n",
      "766                     0.349   47        1  \n",
      "767                     0.315   23        0  \n"
     ]
    }
   ],
   "source": [
    "print(\"5 dòng cuối của dữ liệu:\")\n",
    "print(data.tail())"
   ]
  },
  {
   "cell_type": "code",
   "execution_count": 6,
   "id": "7063f14c",
   "metadata": {},
   "outputs": [
    {
     "name": "stdout",
     "output_type": "stream",
     "text": [
      "<class 'pandas.core.frame.DataFrame'>\n",
      "RangeIndex: 768 entries, 0 to 767\n",
      "Data columns (total 9 columns):\n",
      " #   Column                    Non-Null Count  Dtype  \n",
      "---  ------                    --------------  -----  \n",
      " 0   Pregnancies               768 non-null    int64  \n",
      " 1   Glucose                   768 non-null    int64  \n",
      " 2   BloodPressure             768 non-null    int64  \n",
      " 3   SkinThickness             768 non-null    int64  \n",
      " 4   Insulin                   768 non-null    int64  \n",
      " 5   BMI                       768 non-null    float64\n",
      " 6   DiabetesPedigreeFunction  768 non-null    float64\n",
      " 7   Age                       768 non-null    int64  \n",
      " 8   Outcome                   768 non-null    int64  \n",
      "dtypes: float64(2), int64(7)\n",
      "memory usage: 54.1 KB\n",
      "None\n"
     ]
    }
   ],
   "source": [
    "# Hiển thị thông tin cơ bản về dữ liệu\n",
    "print(data.info())"
   ]
  },
  {
   "cell_type": "markdown",
   "id": "59235c30",
   "metadata": {},
   "source": [
    "**Nhận xét cấu trúc dữ liệu:**\n",
    "   - Tổng cộng **767 dòng × 9 cột**.  \n",
    "   - Tất cả các biến đều dạng số (`int` hoặc `float`). "
   ]
  },
  {
   "cell_type": "code",
   "execution_count": 7,
   "id": "05174a16",
   "metadata": {},
   "outputs": [
    {
     "name": "stdout",
     "output_type": "stream",
     "text": [
      "       Pregnancies     Glucose  BloodPressure  SkinThickness     Insulin  \\\n",
      "count   768.000000  768.000000     768.000000     768.000000  768.000000   \n",
      "mean      3.845052  120.894531      69.105469      20.536458   79.799479   \n",
      "std       3.369578   31.972618      19.355807      15.952218  115.244002   \n",
      "min       0.000000    0.000000       0.000000       0.000000    0.000000   \n",
      "25%       1.000000   99.000000      62.000000       0.000000    0.000000   \n",
      "50%       3.000000  117.000000      72.000000      23.000000   30.500000   \n",
      "75%       6.000000  140.250000      80.000000      32.000000  127.250000   \n",
      "max      17.000000  199.000000     122.000000      99.000000  846.000000   \n",
      "\n",
      "              BMI  DiabetesPedigreeFunction         Age     Outcome  \n",
      "count  768.000000                768.000000  768.000000  768.000000  \n",
      "mean    31.992578                  0.471876   33.240885    0.348958  \n",
      "std      7.884160                  0.331329   11.760232    0.476951  \n",
      "min      0.000000                  0.078000   21.000000    0.000000  \n",
      "25%     27.300000                  0.243750   24.000000    0.000000  \n",
      "50%     32.000000                  0.372500   29.000000    0.000000  \n",
      "75%     36.600000                  0.626250   41.000000    1.000000  \n",
      "max     67.100000                  2.420000   81.000000    1.000000  \n"
     ]
    }
   ],
   "source": [
    "# Thống kê mô tả\n",
    "print(data.describe())"
   ]
  },
  {
   "cell_type": "markdown",
   "id": "7335f70a",
   "metadata": {},
   "source": [
    "- Các thống kê mô tả chính và ý nghĩa:\n",
    "    + count: số lượng mẫu dữ liệu (ở đây tất cả cột = 768).\n",
    "    + mean: giá trị trung bình.\n",
    "    + std: độ lệch chuẩn → mức độ phân tán quanh trung bình.\n",
    "    + min, max: giá trị nhỏ nhất và lớn nhất.\n",
    "    + 25%, 50%, 75% (quartiles): các mốc phân vị → dùng để đánh giá sự phân phối dữ liệu."
   ]
  },
  {
   "cell_type": "markdown",
   "id": "2cf821b2",
   "metadata": {},
   "source": [
    "- Chỉ số đo lường sự biến động (Dispersion):\n",
    "    + std (độ lệch chuẩn):\n",
    "        + Glucose: 32 → biến thiên khá lớn, thể hiện sự khác biệt giữa người khỏe mạnh và người có nguy cơ cao.\n",
    "        + Insulin: 115, lớn hơn cả mean (~80) → chứng tỏ dữ liệu rất phân tán và nhiều ngoại lệ.\n",
    "        + BMI: 7.88 → tương đối ổn định, dao động vừa phải.\n",
    "        + Age: 11.8 → đa dạng độ tuổi, từ 21 đến 81 tuổi.\n",
    "- Khoảng (range = max - min):\n",
    "    + Pregnancies: 0–17, cho thấy có vài trường hợp đặc biệt mang thai rất nhiều lần.\n",
    "    + Insulin: 0–846, cực kỳ phân tán → cần chuẩn hóa hoặc log-transform khi phân tích.\n",
    "    + SkinThickness: 0–99, cũng có nhiều giá trị bất hợp lý."
   ]
  },
  {
   "cell_type": "markdown",
   "id": "1fc0bc45",
   "metadata": {},
   "source": [
    "### 2.4. Kiểm tra giá trị thiếu (Missing Values) và giá trị trùng lặp"
   ]
  },
  {
   "cell_type": "code",
   "execution_count": 22,
   "id": "967435cf",
   "metadata": {},
   "outputs": [
    {
     "data": {
      "text/plain": [
       "Pregnancies                 0\n",
       "Glucose                     0\n",
       "BloodPressure               0\n",
       "SkinThickness               0\n",
       "Insulin                     0\n",
       "BMI                         0\n",
       "DiabetesPedigreeFunction    0\n",
       "Age                         0\n",
       "Outcome                     0\n",
       "dtype: int64"
      ]
     },
     "execution_count": 22,
     "metadata": {},
     "output_type": "execute_result"
    }
   ],
   "source": [
    "data.isnull().sum()"
   ]
  },
  {
   "cell_type": "markdown",
   "id": "12d5fe04",
   "metadata": {},
   "source": [
    "- **Nhận xét:** Không có giá trị nào Null"
   ]
  },
  {
   "cell_type": "code",
   "execution_count": 5,
   "id": "38065ebd",
   "metadata": {},
   "outputs": [
    {
     "data": {
      "text/plain": [
       "Pregnancies                 111\n",
       "Glucose                       5\n",
       "BloodPressure                35\n",
       "SkinThickness               227\n",
       "Insulin                     374\n",
       "BMI                          11\n",
       "DiabetesPedigreeFunction      0\n",
       "Age                           0\n",
       "Outcome                     500\n",
       "dtype: int64"
      ]
     },
     "execution_count": 5,
     "metadata": {},
     "output_type": "execute_result"
    }
   ],
   "source": [
    "(data==0).sum()"
   ]
  },
  {
   "cell_type": "markdown",
   "id": "e1495a5f",
   "metadata": {},
   "source": [
    "- **Nhận xét về dữ liệu có giá trị 0:**  \n",
    "   1. Pregnancies (111 giá trị 0):\n",
    "      + 0 lần mang thai là hợp lý (có những phụ nữ chưa từng mang thai).\n",
    "      + Không cần xử lý coi là missing.\n",
    "   2. Glucose (5 giá trị 0):\n",
    "      + Về mặt y khoa, glucose máu không thể = 0.\n",
    "      + Đây là giá trị bất thường → coi là dữ liệu thiếu.\n",
    "   3. BloodPressure (35 giá trị 0):\n",
    "      + Huyết áp tâm trương không thể = 0.\n",
    "      + Các giá trị này là missing values cần xử lý\n",
    "   4. SkinThickness (227 giá trị 0):\n",
    "      + 0 mm nếp gấp da là không hợp lý.\n",
    "      + Đây là một biến có nhiều thiếu dữ liệu (≈ 30% dữ liệu).\n",
    "   5. Insulin (374 giá trị 0):\n",
    "      + 0 µU/mL insulin là không thực tế.\n",
    "      + Biến này có nhiều dữ liệu thiếu nhất (≈ 49%).\n",
    "   6. BMI (11 giá trị 0):\n",
    "      + BMI = 0 là bất hợp lý.\n",
    "      + Một số ít dữ liệu cần xử lý missing.\n",
    "   7. DiabetesPedigreeFunction (0 giá trị 0):\n",
    "      + Không có giá trị 0, dữ liệu đầy đủ.\n",
    "   8. Age (0 giá trị 0):\n",
    "      + Không có giá trị 0, dữ liệu đầy đủ.\n",
    "   9. Outcome (500 giá trị 0):\n",
    "      + Đây là biến nhãn (class):\n",
    "         + 0 = không mắc tiểu đường (500 mẫu).\n",
    "         + 1 = mắc tiểu đường (268 mẫu).\n",
    "      + Đây không phải dữ liệu thiếu mà là nhãn hợp lệ."
   ]
  },
  {
   "cell_type": "code",
   "execution_count": 27,
   "id": "66fa0fbb",
   "metadata": {},
   "outputs": [
    {
     "data": {
      "text/plain": [
       "0"
      ]
     },
     "execution_count": 27,
     "metadata": {},
     "output_type": "execute_result"
    }
   ],
   "source": [
    "data.duplicated().sum()"
   ]
  },
  {
   "cell_type": "markdown",
   "id": "c19fc7ad",
   "metadata": {},
   "source": [
    "- **Nhận xét:** Không có giá trị nào trùng lặp"
   ]
  },
  {
   "cell_type": "code",
   "execution_count": 8,
   "id": "97d16980",
   "metadata": {},
   "outputs": [
    {
     "name": "stdout",
     "output_type": "stream",
     "text": [
      "\n",
      "Phân bố biến lớp (Outcome):\n",
      "Outcome\n",
      "0    500\n",
      "1    268\n",
      "Name: count, dtype: int64\n"
     ]
    }
   ],
   "source": [
    "# Phân bố lớp\n",
    "print(\"\\nPhân bố biến lớp (Outcome):\")\n",
    "print(data['Outcome'].value_counts())"
   ]
  },
  {
   "cell_type": "markdown",
   "id": "019363f3",
   "metadata": {},
   "source": [
    "- **Nhận xét:** Tỉ lệ mắc 65% không tiểu đường, 35% có tiểu đường => Dataset có chênh lệch nhưng không quá nghiêm trọng"
   ]
  },
  {
   "cell_type": "markdown",
   "id": "e992ae1f",
   "metadata": {},
   "source": [
    "### 2.5. Kiểm tra độ tương quan dữ liệu"
   ]
  },
  {
   "cell_type": "code",
   "execution_count": 30,
   "id": "661900a3",
   "metadata": {},
   "outputs": [
    {
     "data": {
      "text/html": [
       "<div>\n",
       "<style scoped>\n",
       "    .dataframe tbody tr th:only-of-type {\n",
       "        vertical-align: middle;\n",
       "    }\n",
       "\n",
       "    .dataframe tbody tr th {\n",
       "        vertical-align: top;\n",
       "    }\n",
       "\n",
       "    .dataframe thead th {\n",
       "        text-align: right;\n",
       "    }\n",
       "</style>\n",
       "<table border=\"1\" class=\"dataframe\">\n",
       "  <thead>\n",
       "    <tr style=\"text-align: right;\">\n",
       "      <th></th>\n",
       "      <th>Pregnancies</th>\n",
       "      <th>Glucose</th>\n",
       "      <th>BloodPressure</th>\n",
       "      <th>SkinThickness</th>\n",
       "      <th>Insulin</th>\n",
       "      <th>BMI</th>\n",
       "      <th>DiabetesPedigreeFunction</th>\n",
       "      <th>Age</th>\n",
       "      <th>Outcome</th>\n",
       "    </tr>\n",
       "  </thead>\n",
       "  <tbody>\n",
       "    <tr>\n",
       "      <th>Pregnancies</th>\n",
       "      <td>1.000000</td>\n",
       "      <td>0.127911</td>\n",
       "      <td>0.208522</td>\n",
       "      <td>0.082989</td>\n",
       "      <td>0.056027</td>\n",
       "      <td>0.021565</td>\n",
       "      <td>-0.033523</td>\n",
       "      <td>0.544341</td>\n",
       "      <td>0.221898</td>\n",
       "    </tr>\n",
       "    <tr>\n",
       "      <th>Glucose</th>\n",
       "      <td>0.127911</td>\n",
       "      <td>1.000000</td>\n",
       "      <td>0.218367</td>\n",
       "      <td>0.192991</td>\n",
       "      <td>0.420157</td>\n",
       "      <td>0.230941</td>\n",
       "      <td>0.137060</td>\n",
       "      <td>0.266534</td>\n",
       "      <td>0.492928</td>\n",
       "    </tr>\n",
       "    <tr>\n",
       "      <th>BloodPressure</th>\n",
       "      <td>0.208522</td>\n",
       "      <td>0.218367</td>\n",
       "      <td>1.000000</td>\n",
       "      <td>0.192816</td>\n",
       "      <td>0.072517</td>\n",
       "      <td>0.281268</td>\n",
       "      <td>-0.002763</td>\n",
       "      <td>0.324595</td>\n",
       "      <td>0.166074</td>\n",
       "    </tr>\n",
       "    <tr>\n",
       "      <th>SkinThickness</th>\n",
       "      <td>0.082989</td>\n",
       "      <td>0.192991</td>\n",
       "      <td>0.192816</td>\n",
       "      <td>1.000000</td>\n",
       "      <td>0.158139</td>\n",
       "      <td>0.542398</td>\n",
       "      <td>0.100966</td>\n",
       "      <td>0.127872</td>\n",
       "      <td>0.215299</td>\n",
       "    </tr>\n",
       "    <tr>\n",
       "      <th>Insulin</th>\n",
       "      <td>0.056027</td>\n",
       "      <td>0.420157</td>\n",
       "      <td>0.072517</td>\n",
       "      <td>0.158139</td>\n",
       "      <td>1.000000</td>\n",
       "      <td>0.166586</td>\n",
       "      <td>0.098634</td>\n",
       "      <td>0.136734</td>\n",
       "      <td>0.214411</td>\n",
       "    </tr>\n",
       "    <tr>\n",
       "      <th>BMI</th>\n",
       "      <td>0.021565</td>\n",
       "      <td>0.230941</td>\n",
       "      <td>0.281268</td>\n",
       "      <td>0.542398</td>\n",
       "      <td>0.166586</td>\n",
       "      <td>1.000000</td>\n",
       "      <td>0.153400</td>\n",
       "      <td>0.025519</td>\n",
       "      <td>0.311924</td>\n",
       "    </tr>\n",
       "    <tr>\n",
       "      <th>DiabetesPedigreeFunction</th>\n",
       "      <td>-0.033523</td>\n",
       "      <td>0.137060</td>\n",
       "      <td>-0.002763</td>\n",
       "      <td>0.100966</td>\n",
       "      <td>0.098634</td>\n",
       "      <td>0.153400</td>\n",
       "      <td>1.000000</td>\n",
       "      <td>0.033561</td>\n",
       "      <td>0.173844</td>\n",
       "    </tr>\n",
       "    <tr>\n",
       "      <th>Age</th>\n",
       "      <td>0.544341</td>\n",
       "      <td>0.266534</td>\n",
       "      <td>0.324595</td>\n",
       "      <td>0.127872</td>\n",
       "      <td>0.136734</td>\n",
       "      <td>0.025519</td>\n",
       "      <td>0.033561</td>\n",
       "      <td>1.000000</td>\n",
       "      <td>0.238356</td>\n",
       "    </tr>\n",
       "    <tr>\n",
       "      <th>Outcome</th>\n",
       "      <td>0.221898</td>\n",
       "      <td>0.492928</td>\n",
       "      <td>0.166074</td>\n",
       "      <td>0.215299</td>\n",
       "      <td>0.214411</td>\n",
       "      <td>0.311924</td>\n",
       "      <td>0.173844</td>\n",
       "      <td>0.238356</td>\n",
       "      <td>1.000000</td>\n",
       "    </tr>\n",
       "  </tbody>\n",
       "</table>\n",
       "</div>"
      ],
      "text/plain": [
       "                          Pregnancies   Glucose  BloodPressure  SkinThickness  \\\n",
       "Pregnancies                  1.000000  0.127911       0.208522       0.082989   \n",
       "Glucose                      0.127911  1.000000       0.218367       0.192991   \n",
       "BloodPressure                0.208522  0.218367       1.000000       0.192816   \n",
       "SkinThickness                0.082989  0.192991       0.192816       1.000000   \n",
       "Insulin                      0.056027  0.420157       0.072517       0.158139   \n",
       "BMI                          0.021565  0.230941       0.281268       0.542398   \n",
       "DiabetesPedigreeFunction    -0.033523  0.137060      -0.002763       0.100966   \n",
       "Age                          0.544341  0.266534       0.324595       0.127872   \n",
       "Outcome                      0.221898  0.492928       0.166074       0.215299   \n",
       "\n",
       "                           Insulin       BMI  DiabetesPedigreeFunction  \\\n",
       "Pregnancies               0.056027  0.021565                 -0.033523   \n",
       "Glucose                   0.420157  0.230941                  0.137060   \n",
       "BloodPressure             0.072517  0.281268                 -0.002763   \n",
       "SkinThickness             0.158139  0.542398                  0.100966   \n",
       "Insulin                   1.000000  0.166586                  0.098634   \n",
       "BMI                       0.166586  1.000000                  0.153400   \n",
       "DiabetesPedigreeFunction  0.098634  0.153400                  1.000000   \n",
       "Age                       0.136734  0.025519                  0.033561   \n",
       "Outcome                   0.214411  0.311924                  0.173844   \n",
       "\n",
       "                               Age   Outcome  \n",
       "Pregnancies               0.544341  0.221898  \n",
       "Glucose                   0.266534  0.492928  \n",
       "BloodPressure             0.324595  0.166074  \n",
       "SkinThickness             0.127872  0.215299  \n",
       "Insulin                   0.136734  0.214411  \n",
       "BMI                       0.025519  0.311924  \n",
       "DiabetesPedigreeFunction  0.033561  0.173844  \n",
       "Age                       1.000000  0.238356  \n",
       "Outcome                   0.238356  1.000000  "
      ]
     },
     "execution_count": 30,
     "metadata": {},
     "output_type": "execute_result"
    }
   ],
   "source": [
    "data.corr()"
   ]
  },
  {
   "cell_type": "markdown",
   "id": "956c3f3b",
   "metadata": {},
   "source": [
    "**Nhận xét độ tương quan**\n",
    "\n",
    "- **Glucose ↔ Outcome** (0.49): mối quan hệ mạnh nhất, đường huyết cao liên quan trực tiếp đến tiểu đường.  \n",
    "- **BMI** (0.31)**, Age** (0.24)**, Pregnancies**(0.22) **↔ Outcome**: cũng có ảnh hưởng, lần lượt theo mức độ.  \n",
    "- **Age ↔ Pregnancies** (0.54) và **SkinThickness ↔ BMI** (0.54): quan hệ chặt chẽ, hợp lý về mặt sinh lý.  \n",
    "- Các biến khác (BloodPressure, Insulin, DPF) có tương quan yếu hơn.  \n",
    "\n",
    "**=>** Glucose là biến quan trọng nhất, sau đó đến BMI, Age và Pregnancies.\n"
   ]
  }
 ],
 "metadata": {
  "kernelspec": {
   "display_name": "base",
   "language": "python",
   "name": "python3"
  },
  "language_info": {
   "codemirror_mode": {
    "name": "ipython",
    "version": 3
   },
   "file_extension": ".py",
   "mimetype": "text/x-python",
   "name": "python",
   "nbconvert_exporter": "python",
   "pygments_lexer": "ipython3",
   "version": "3.11.7"
  }
 },
 "nbformat": 4,
 "nbformat_minor": 5
}
